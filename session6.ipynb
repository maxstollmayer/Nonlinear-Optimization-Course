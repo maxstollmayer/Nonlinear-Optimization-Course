{
 "cells": [
  {
   "attachments": {},
   "cell_type": "markdown",
   "metadata": {},
   "source": [
    "# Nonlinear Optimization Exercise Session 6\n",
    "\n",
    "Maximilian Stollmayer"
   ]
  },
  {
   "cell_type": "code",
   "execution_count": 1,
   "metadata": {},
   "outputs": [],
   "source": [
    "using LinearAlgebra, ForwardDiff"
   ]
  },
  {
   "attachments": {},
   "cell_type": "markdown",
   "metadata": {},
   "source": [
    "### 41\n",
    "\n",
    "Implement the local Newton algorithm. Use as input data the starting vector $x^0$, the parameter for the stopping criterion $\\varepsilon$ and the parameter for the maximal number of allowed iterations *kmax*. The sequence $x^0, x^1, x^2, \\dots$ containing the iteration history and the number of performed iterations should be returned."
   ]
  },
  {
   "cell_type": "code",
   "execution_count": 2,
   "metadata": {},
   "outputs": [],
   "source": [
    "function localNewton(f::Function, x0::Vector, tol::Real, kmax::Integer)\n",
    "\n",
    "    @assert tol >= 0\n",
    "    @assert kmax > 0\n",
    "\n",
    "    grad = xk -> ForwardDiff.gradient(f, xk)\n",
    "    hess = xk -> ForwardDiff.hessian(f, xk)\n",
    "    x = [x0]\n",
    "    ng = Inf\n",
    "\n",
    "    for k ∈ 1:kmax\n",
    "        g = grad(x[k])\n",
    "        ng = norm(g)\n",
    "        if ng <= tol\n",
    "            return x, k-1, ng\n",
    "        end\n",
    "        \n",
    "        try\n",
    "            d = hess(x[k]) \\ g\n",
    "            push!(x, x[k] - d)\n",
    "        catch e\n",
    "            if isa(e, SingularException)\n",
    "                return x, k-1, ng\n",
    "            else\n",
    "                throw(e)\n",
    "            end\n",
    "        end\n",
    "    end\n",
    "    \n",
    "    return x, kmax, ng\n",
    "end\n",
    ";"
   ]
  },
  {
   "attachments": {},
   "cell_type": "markdown",
   "metadata": {},
   "source": [
    "The implemented algorithm should be tested for $\\varepsilon = 10^{-6}$ and *kmax* = 200, and the following functions and starting values:"
   ]
  },
  {
   "cell_type": "code",
   "execution_count": 3,
   "metadata": {},
   "outputs": [],
   "source": [
    "ε = 1e-6\n",
    "kmax = 200\n",
    ";"
   ]
  },
  {
   "attachments": {},
   "cell_type": "markdown",
   "metadata": {},
   "source": [
    "##### (a)\n",
    "\n",
    "Rosenbrock function $f(x_1, x_2) = (1-x_1)^2 + 100 (x_2 - x_1^2)^2$ and $x^0 = (-1.2, 1)^\\top$"
   ]
  },
  {
   "cell_type": "code",
   "execution_count": 4,
   "metadata": {},
   "outputs": [
    {
     "name": "stdout",
     "output_type": "stream",
     "text": [
      "6 iterations\n",
      "gradient norm = 8.285705791275365e-9\n",
      "approximated minimum:\n"
     ]
    },
    {
     "name": "stdout",
     "output_type": "stream",
     "text": [
      "[0.9999999999999999, 0.9999999999814724]\n"
     ]
    }
   ],
   "source": [
    "f_a(x::Vector)::Real = (1-x[1])^2 + 100(x[2] - x[1]^2)^2\n",
    "x0_a = [-1.2, 1.0]\n",
    "\n",
    "x, k, ng = localNewton(f_a, x0_a, ε, kmax)\n",
    "\n",
    "println(k, \" iterations\")\n",
    "println(\"gradient norm = \", ng)\n",
    "println(\"approximated minimum:\")\n",
    "println(x[end])"
   ]
  },
  {
   "attachments": {},
   "cell_type": "markdown",
   "metadata": {},
   "source": [
    "##### (b)\n",
    "\n",
    "trigonometric function $f(x_1, x_2, x_3, x_4) = \\sum_{i=1}^4 \\left( 4 - \\sum_{j=1}^4 \\cos x_j + i(1 - \\cos x_i) - \\sin x_i \\right)^2$ and $x^0 = (\\frac{1}{4}, \\frac{1}{4}, \\frac{1}{4}, \\frac{1}{4})^\\top$"
   ]
  },
  {
   "cell_type": "code",
   "execution_count": 5,
   "metadata": {},
   "outputs": [
    {
     "name": "stdout",
     "output_type": "stream",
     "text": [
      "16 iterations\n",
      "gradient norm = 2.8054341478443444e-8\n",
      "approximated minimum:\n",
      "[0.1454861843128384, 0.16018148574735072, 0.424955120548663, 0.21684658127434417]\n"
     ]
    }
   ],
   "source": [
    "f_b(x::Vector)::Real = sum([(4 - sum(cos.(x)) + i*(1 - cos(x[i])) - sin(x[i]))^2 for i ∈ 1:length(x)])\n",
    "x0_b = [1/4, 1/4, 1/4, 1/4]\n",
    "\n",
    "x, k, ng = localNewton(f_b, x0_b, ε, kmax)\n",
    "\n",
    "println(k, \" iterations\")\n",
    "println(\"gradient norm = \", ng)\n",
    "println(\"approximated minimum:\")\n",
    "println(x[end])"
   ]
  },
  {
   "attachments": {},
   "cell_type": "markdown",
   "metadata": {},
   "source": [
    "##### (c)\n",
    "\n",
    "Brown function $f(x_1, x_2) = (x_1 - 10^6)^2 + (x_2 - 2 \\cdot 10^6)^2 + (x_1 x_2 - 2)^2$ and $x^0 = (1, 1)^\\top$"
   ]
  },
  {
   "cell_type": "code",
   "execution_count": 6,
   "metadata": {},
   "outputs": [
    {
     "name": "stdout",
     "output_type": "stream",
     "text": [
      "28 iterations\n",
      "gradient norm = 0.0\n",
      "approximated minimum:\n",
      "[158.75270665788787, 79.36690167054873]\n"
     ]
    }
   ],
   "source": [
    "f_c(x::Vector)::Real = (x[1] - 1e6)^2 + (x[2] - 2e6)^2 + (x[1]*x[2] - 2)^2\n",
    "x0_c = [1.0, 1.0]\n",
    "\n",
    "x, k, ng = localNewton(f_c, x0_c, ε, kmax)\n",
    "\n",
    "println(k, \" iterations\")\n",
    "println(\"gradient norm = \", ng)\n",
    "println(\"approximated minimum:\")\n",
    "println(x[end])"
   ]
  },
  {
   "attachments": {},
   "cell_type": "markdown",
   "metadata": {},
   "source": [
    "##### (d)\n",
    "\n",
    "Wood function $f(x_1, x_2, x_3, x_4) = 100(x_2 - x_1^2)^2 + (1- x_1)^2 + 90(x_4 - x_3^2)^2 + (1 - x_3)^2 + 10(x_2 + x_4 - 2)^2 + \\frac{1}{10}(x_2 - x_4)^2$ and $x^0 = (-3, -1, -3, -1)^\\top$"
   ]
  },
  {
   "cell_type": "code",
   "execution_count": 7,
   "metadata": {},
   "outputs": [
    {
     "name": "stdout",
     "output_type": "stream",
     "text": [
      "13 iterations\n",
      "gradient norm = 0.0\n",
      "approximated minimum:\n",
      "[-0.9679740412300142, 0.9471391719429616, -0.9695162944613986, 0.951247634684588]\n"
     ]
    }
   ],
   "source": [
    "f_d(x::Vector)::Real = 100(x[2] - x[1]^2)^2 + (1 - x[1])^2 + 90(x[4] - x[3]^2)^2 + (1 - x[3])^2 + 10(x[2] + x[4] - 2)^2 + 0.1(x[2] - x[4])^2\n",
    "x0_d = [-3.0, -1.0, -3.0, -1.0]\n",
    "\n",
    "x, k, nd = localNewton(f_d, x0_d, ε, kmax)\n",
    "\n",
    "println(k, \" iterations\")\n",
    "println(\"gradient norm = \", ng)\n",
    "println(\"approximated minimum:\")\n",
    "println(x[end])"
   ]
  },
  {
   "attachments": {},
   "cell_type": "markdown",
   "metadata": {},
   "source": [
    "##### (e)\n",
    "\n",
    "$f(x) = \\sqrt{1 + x^2}$, $x^0 = 2$, $x^0 = 1$ and $x^0 = \\frac{1}{2}$"
   ]
  },
  {
   "cell_type": "code",
   "execution_count": 8,
   "metadata": {},
   "outputs": [
    {
     "name": "stdout",
     "output_type": "stream",
     "text": [
      "x0 = 2.0\n",
      "gradient norm = 1.0\n",
      "3 iterations\n",
      "approximated minimum: -1.3421772800366214e8\n",
      "\n",
      "x0 = 1.0\n",
      "gradient norm = 4.1402909377839803e-10\n",
      "37 iterations\n",
      "approximated minimum: -4.1402909377839803e-10\n",
      "\n",
      "x0 = 0.5\n",
      "gradient norm = 7.450580596923828e-9\n",
      "3 iterations\n",
      "approximated minimum: -7.450580596923828e-9\n",
      "\n"
     ]
    }
   ],
   "source": [
    "f_e(x::Vector)::Real = sqrt(1 + x[1]^2)\n",
    "x0s_e = ([2.0], [1.0], [1/2])\n",
    "\n",
    "for x0 ∈ x0s_e\n",
    "    x, k, ng = localNewton(f_e, x0, ε, kmax)\n",
    "    println(\"x0 = \", x0[1])\n",
    "    println(\"gradient norm = \", ng)\n",
    "    println(k, \" iterations\")\n",
    "    println(\"approximated minimum: \", x[end][1])\n",
    "    println(\"\")\n",
    "end"
   ]
  },
  {
   "attachments": {},
   "cell_type": "markdown",
   "metadata": {},
   "source": [
    "In the above example for $x^0 = 2$ the Newton equations could not be solved due to a singular Hessian and therefore the iteration was stopped."
   ]
  },
  {
   "attachments": {},
   "cell_type": "markdown",
   "metadata": {},
   "source": [
    "### 42\n",
    "\n",
    "Implement the globalized Newton algorithm. Use as input data the starting vector $x^0$, the parameter for the stopping criterion $\\varepsilon$, the parameter for the maximal number of allowed iterations *kmax*, the parameters for the determination of the Armijo step size $\\sigma$ and $\\beta$, and the parameters $\\rho$ and $p$. The sequence $x^0, x^1, x^2, \\dots$ containing the iteration history and the number of performed iterations should be returned."
   ]
  },
  {
   "cell_type": "code",
   "execution_count": 9,
   "metadata": {},
   "outputs": [],
   "source": [
    "function globalNewton(f::Function, x0::Vector, tol::Real, kmax::Integer, σ::Real, β::Real, ρ::Real, p::Real)\n",
    "\n",
    "    @assert tol >= 0\n",
    "    @assert kmax > 0\n",
    "    @assert 0 < σ < 0.5\n",
    "    @assert 0 < β < 1\n",
    "    @assert ρ > 0\n",
    "    @assert p > 2\n",
    "\n",
    "    grad = xk -> ForwardDiff.gradient(f, xk)\n",
    "    hess = xk -> ForwardDiff.hessian(f, xk)\n",
    "    x = [x0]\n",
    "    ng = Inf\n",
    "\n",
    "    for k ∈ 1:kmax\n",
    "\n",
    "        g = grad(x[k])\n",
    "        ng = norm(g)\n",
    "        if ng <= tol\n",
    "            return x, k-1, ng\n",
    "        end\n",
    "        \n",
    "        d = -g\n",
    "        try\n",
    "            dn = -hess(x[k]) \\ g\n",
    "            if dot(g, dn) <= ρ * norm(dn)^p\n",
    "                d = dn\n",
    "            end\n",
    "        catch e\n",
    "            if !isa(e, SingularException)\n",
    "                throw(e)\n",
    "            end\n",
    "        end\n",
    "\n",
    "        # iterate step size until Armijo condition is met\n",
    "        σnd = σ * norm(d)\n",
    "        fx = f(x[k])\n",
    "        t = 1\n",
    "        while f(x[end] + t * d) > fx - t * σnd\n",
    "            t *= β\n",
    "        end\n",
    "\n",
    "        push!(x, x[k] + t * d)\n",
    "    end\n",
    "\n",
    "    return x, kmax, ng\n",
    "end\n",
    ";"
   ]
  },
  {
   "attachments": {},
   "cell_type": "markdown",
   "metadata": {},
   "source": [
    "The implemented algorithm should be tested for $\\varepsilon = 10^{−6}$, *kmax* = 200, $\\rho = 10^{−8}$, $p = 2.1$, $\\sigma = 10^{−4}$ and $\\beta = 0.5$, and the following functions and starting values:"
   ]
  },
  {
   "cell_type": "code",
   "execution_count": 10,
   "metadata": {},
   "outputs": [],
   "source": [
    "ε = 1e-6\n",
    "kmax = 200\n",
    "ρ = 1e-8\n",
    "p = 2.1\n",
    "σ = 1e-4\n",
    "β = 0.5\n",
    ";"
   ]
  },
  {
   "attachments": {},
   "cell_type": "markdown",
   "metadata": {},
   "source": [
    "#### (a) Rosenbrock function"
   ]
  },
  {
   "cell_type": "code",
   "execution_count": 11,
   "metadata": {},
   "outputs": [
    {
     "name": "stdout",
     "output_type": "stream",
     "text": [
      "200 iterations\n",
      "gradient norm = 0.00011871675903483276\n",
      "approximated minimum:\n",
      "[0.9999988896181284, 0.9999975093462696]\n"
     ]
    }
   ],
   "source": [
    "x, k, ng = globalNewton(f_a, x0_a, ε, kmax, σ, β, ρ, p)\n",
    "\n",
    "println(k, \" iterations\")\n",
    "println(\"gradient norm = \", ng)\n",
    "println(\"approximated minimum:\")\n",
    "println(x[end])"
   ]
  },
  {
   "attachments": {},
   "cell_type": "markdown",
   "metadata": {},
   "source": [
    "##### (b) trigonometric function"
   ]
  },
  {
   "cell_type": "code",
   "execution_count": 12,
   "metadata": {},
   "outputs": [
    {
     "name": "stdout",
     "output_type": "stream",
     "text": [
      "200 iterations\n",
      "gradient norm = 9.296209871724122e-5\n",
      "approximated minimum:\n",
      "[0.1455339094301942, 0.16024364624568757, 0.42490842133240075, 0.21707430546894338]\n"
     ]
    }
   ],
   "source": [
    "x, k, ng = globalNewton(f_b, x0_b, ε, kmax, σ, β, ρ, p)\n",
    "\n",
    "println(k, \" iterations\")\n",
    "println(\"gradient norm = \", ng)\n",
    "println(\"approximated minimum:\")\n",
    "println(x[end])"
   ]
  },
  {
   "attachments": {},
   "cell_type": "markdown",
   "metadata": {},
   "source": [
    "##### (c) Brown function"
   ]
  },
  {
   "cell_type": "code",
   "execution_count": 13,
   "metadata": {},
   "outputs": [
    {
     "name": "stdout",
     "output_type": "stream",
     "text": [
      "22 iterations\n",
      "gradient norm = 9.458442548534918e-10\n",
      "approximated minimum:\n",
      "[1.2500000000001564e-6, 1.999999999999375e6]\n"
     ]
    }
   ],
   "source": [
    "x, k, ng = globalNewton(f_c, x0_c, ε, kmax, σ, β, ρ, p)\n",
    "\n",
    "println(k, \" iterations\")\n",
    "println(\"gradient norm = \", ng)\n",
    "println(\"approximated minimum:\")\n",
    "println(x[end])"
   ]
  },
  {
   "attachments": {},
   "cell_type": "markdown",
   "metadata": {},
   "source": [
    "##### (d) Wood function"
   ]
  },
  {
   "cell_type": "code",
   "execution_count": 14,
   "metadata": {},
   "outputs": [
    {
     "name": "stdout",
     "output_type": "stream",
     "text": [
      "200 iterations\n",
      "gradient norm = 0.021943549977087782\n",
      "approximated minimum:\n",
      "[-0.9976844506520253, 1.005434721018345, -0.9388457042511992, 0.8928940340625637]\n"
     ]
    }
   ],
   "source": [
    "x, k, ng = globalNewton(f_d, x0_d, ε, kmax, σ, β, ρ, p)\n",
    "\n",
    "println(k, \" iterations\")\n",
    "println(\"gradient norm = \", ng)\n",
    "println(\"approximated minimum:\")\n",
    "println(x[end])"
   ]
  },
  {
   "attachments": {},
   "cell_type": "markdown",
   "metadata": {},
   "source": [
    "##### (e)"
   ]
  },
  {
   "cell_type": "code",
   "execution_count": 15,
   "metadata": {},
   "outputs": [
    {
     "name": "stdout",
     "output_type": "stream",
     "text": [
      "x0 = 2.0\n",
      "gradient norm = 7.450580596923828e-9\n",
      "4 iterations\n",
      "approximated minimum: 7.450580596923828e-9\n",
      "\n",
      "x0 = 1.0\n",
      "gradient norm = 1.1102230246251565e-16\n",
      "1 iterations\n",
      "approximated minimum: 1.1102230246251565e-16\n",
      "\n",
      "x0 = 0.5\n",
      "gradient norm = 7.450580596923828e-9\n",
      "3 iterations\n",
      "approximated minimum: -7.450580596923828e-9\n",
      "\n"
     ]
    }
   ],
   "source": [
    "for x0 ∈ x0s_e\n",
    "    x, k, ng = globalNewton(f_e, x0, ε, kmax, σ, β, ρ, p)\n",
    "    \n",
    "    println(\"x0 = \", x0[1])\n",
    "    println(\"gradient norm = \", ng)\n",
    "    println(k, \" iterations\")\n",
    "    println(\"approximated minimum: \", x[end][1])\n",
    "    println(\"\")\n",
    "end"
   ]
  },
  {
   "attachments": {},
   "cell_type": "markdown",
   "metadata": {},
   "source": [
    "### Comparison"
   ]
  },
  {
   "attachments": {},
   "cell_type": "markdown",
   "metadata": {},
   "source": [
    "##### (a) Rosenbrock function"
   ]
  },
  {
   "cell_type": "code",
   "execution_count": 16,
   "metadata": {},
   "outputs": [
    {
     "name": "stdout",
     "output_type": "stream",
     "text": [
      "solver | iterations | gradient norm | approximated minimum"
     ]
    },
    {
     "name": "stdout",
     "output_type": "stream",
     "text": [
      "\n",
      "local  |          6 | 8.28570579e-9 | [0.9999999999999999, 0.9999999999814724]\n",
      "global |        200 | 0.00011871676 | [0.9999988896181284, 0.9999975093462696]\n"
     ]
    }
   ],
   "source": [
    "x_l, k_l, ng_l = localNewton(f_a, x0_a, ε, kmax)\n",
    "x_g, k_g, ng_g = globalNewton(f_a, x0_a, ε, kmax, σ, β, ρ, p)\n",
    "\n",
    "println(\"solver | iterations | gradient norm | approximated minimum\")\n",
    "println(\"local  |          $k_l | $(round(ng_l, sigdigits=9)) | $(x_l[end])\")\n",
    "println(\"global |        $k_g | $(round(ng_g, digits=11)) | $(x_g[end])\")"
   ]
  },
  {
   "attachments": {},
   "cell_type": "markdown",
   "metadata": {},
   "source": [
    "##### (b) trigonometric function"
   ]
  },
  {
   "cell_type": "code",
   "execution_count": 17,
   "metadata": {},
   "outputs": [
    {
     "name": "stdout",
     "output_type": "stream",
     "text": [
      "solver | iterations | gradient norm | approximated minimum\n",
      "local  |         16 | 2.80543415e-8 | [0.14549, 0.16018, 0.42496, 0.21685]\n",
      "global |        200 | 9.29620987e-5 | [0.14553, 0.16024, 0.42491, 0.21707]\n"
     ]
    }
   ],
   "source": [
    "x_l, k_l, ng_l = localNewton(f_b, x0_b, ε, kmax)\n",
    "x_g, k_g, ng_g = globalNewton(f_b, x0_b, ε, kmax, σ, β, ρ, p)\n",
    "\n",
    "println(\"solver | iterations | gradient norm | approximated minimum\")\n",
    "println(\"local  |         $k_l | $(round(ng_l, sigdigits=9)) | $(round.(x_l[end], digits=5))\")\n",
    "println(\"global |        $k_g | $(round(ng_g, sigdigits=9)) | $(round.(x_g[end], digits=5))\")"
   ]
  },
  {
   "attachments": {},
   "cell_type": "markdown",
   "metadata": {},
   "source": [
    "##### (c) Brown function"
   ]
  },
  {
   "cell_type": "code",
   "execution_count": 18,
   "metadata": {},
   "outputs": [
    {
     "name": "stdout",
     "output_type": "stream",
     "text": [
      "solver | iterations | gradient norm | approximated minimum"
     ]
    },
    {
     "name": "stdout",
     "output_type": "stream",
     "text": [
      "\n",
      "local  |         28 |           0.0 | [158.75, 79.367]\n",
      "global |         22 |      9.46e-10 | [1.25e-6, 2.0e6]\n"
     ]
    }
   ],
   "source": [
    "x_l, k_l, ng_l = localNewton(f_c, x0_c, ε, kmax)\n",
    "x_g, k_g, ng_g = globalNewton(f_c, x0_c, ε, kmax, σ, β, ρ, p)\n",
    "\n",
    "println(\"solver | iterations | gradient norm | approximated minimum\")\n",
    "println(\"local  |         $k_l |           $ng_l | $(round.(x_l[end], sigdigits=5))\")\n",
    "println(\"global |         $k_g |      $(round(ng_g, sigdigits=3)) | $(round.(x_g[end], sigdigits=5))\")"
   ]
  },
  {
   "attachments": {},
   "cell_type": "markdown",
   "metadata": {},
   "source": [
    "##### (d) Wood function"
   ]
  },
  {
   "cell_type": "code",
   "execution_count": 19,
   "metadata": {},
   "outputs": [
    {
     "name": "stdout",
     "output_type": "stream",
     "text": [
      "solver | iterations | gradient norm | approximated minimum\n",
      "local  |         13 | 2.20997015e-7 | [-0.96797, 0.94714, -0.96952, 0.95125]\n",
      "global |        200 | 0.02194354998 | [-0.99768, 1.00543, -0.93885, 0.89289]\n"
     ]
    }
   ],
   "source": [
    "x_l, k_l, ng_l = localNewton(f_d, x0_d, ε, kmax)\n",
    "x_g, k_g, ng_g = globalNewton(f_d, x0_d, ε, kmax, σ, β, ρ, p)\n",
    "\n",
    "println(\"solver | iterations | gradient norm | approximated minimum\")\n",
    "println(\"local  |         $k_l | $(round(ng_l, sigdigits=9)) | $(round.(x_l[end], digits=5))\")\n",
    "println(\"global |        $k_g | $(round(ng_g, sigdigits=10)) | $(round.(x_g[end], digits=5))\")"
   ]
  },
  {
   "attachments": {},
   "cell_type": "markdown",
   "metadata": {},
   "source": [
    "##### (e)"
   ]
  },
  {
   "cell_type": "code",
   "execution_count": 20,
   "metadata": {},
   "outputs": [
    {
     "name": "stdout",
     "output_type": "stream",
     "text": [
      " x0 | solver | iterations | gradient norm | approximated minimum\n",
      "2.0 | local  |         3 |  1.0 | -1.342e8\n",
      "2.0 | global |         4 |  7.451e-9 | 7.451e-9\n",
      "1.0 | local  |         37 |  4.14e-10 | -4.14e-10\n",
      "1.0 | global |         1 |  1.11e-16 | 1.11e-16\n",
      "0.5 | local  |         3 |  7.451e-9 | -7.451e-9\n",
      "0.5 | global |         3 |  7.451e-9 | -7.451e-9\n"
     ]
    }
   ],
   "source": [
    "println(\" x0 | solver | iterations | gradient norm | approximated minimum\")\n",
    "for x0_e ∈ x0s_e\n",
    "    x_l, k_l, ng_l = localNewton(f_e, x0_e, ε, kmax);\n",
    "    x_g, k_g, ng_g = globalNewton(f_e, x0_e, ε, kmax, σ, β, ρ, p);\n",
    "\n",
    "    println(\"$(x0_e[1]) | local  |         $k_l |  $(round(ng_l, sigdigits=4)) | $(round.(x_l[end][1], sigdigits=4))\")\n",
    "    println(\"$(x0_e[1]) | global |         $k_g |  $(round(ng_g, sigdigits=4)) | $(round.(x_g[end][1], sigdigits=4))\")\n",
    "end"
   ]
  },
  {
   "cell_type": "code",
   "execution_count": 21,
   "metadata": {},
   "outputs": [],
   "source": []
  }
 ],
 "metadata": {
  "kernelspec": {
   "display_name": "Julia 1.8.3",
   "language": "julia",
   "name": "julia-1.8"
  },
  "language_info": {
   "file_extension": ".jl",
   "mimetype": "application/julia",
   "name": "julia",
   "version": "1.8.3"
  },
  "orig_nbformat": 4
 },
 "nbformat": 4,
 "nbformat_minor": 2
}
